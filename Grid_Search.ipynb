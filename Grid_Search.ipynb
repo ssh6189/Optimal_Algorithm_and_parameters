{
 "cells": [
  {
   "cell_type": "code",
   "execution_count": 1,
   "metadata": {},
   "outputs": [],
   "source": [
    "import pandas as pd\n",
    "from sklearn.model_selection import train_test_split\n",
    "from sklearn.svm import SVC\n",
    "from sklearn.metrics import accuracy_score\n",
    "from sklearn.model_selection import KFold\n",
    "from sklearn.model_selection import GridSearchCV\n",
    "\n",
    "#붓꽃 데이터 읽어 들이기\n",
    "iris_data = pd.read_csv(\"iris.csv\", encoding = \"utf-8\")"
   ]
  },
  {
   "cell_type": "code",
   "execution_count": 2,
   "metadata": {},
   "outputs": [
    {
     "name": "stdout",
     "output_type": "stream",
     "text": [
      "최적의 매개 변수 =  SVC(C=1, kernel='linear')\n",
      "최종 정답률 =  0.9666666666666667\n"
     ]
    }
   ],
   "source": [
    "#붓꽃 데이터를 레이블과 입력 데이터로 분리하기\n",
    "y = iris_data.loc[:, \"Name\"]\n",
    "x = iris_data.loc[:, [\"SepalLength\",\"SepalWidth\",\"PetalLength\",\"PetalWidth\"]]\n",
    "\n",
    "#학습 전용과 테스트 전용 분리하기\n",
    "x_train, x_test, y_train, y_test = train_test_split(x, y, test_size = 0.2, train_size = 0.8, shuffle = True)\n",
    "\n",
    "#그리드 서치에서 사용할 매개변수\n",
    "parameters = [\n",
    "    {\"C\": [1, 10, 100, 1000], \"kernel\":[\"linear\"]},\n",
    "    {\"C\": [1, 10, 100, 1000], \"kernel\":[\"rbf\"], \"gamma\":[0.001, 0.0001]},\n",
    "    {\"C\": [1, 10, 100, 1000], \"kernel\":[\"sigmoid\"], \"gamma\":[0.001, 0.0001]},\n",
    "]\n",
    "\n",
    "#그리드 서치\n",
    "kfold_cv = KFold(n_splits = 5, shuffle = True)\n",
    "clf = GridSearchCV(SVC(), parameters, cv = kfold_cv)\n",
    "clf.fit(x_train, y_train)\n",
    "print(\"최적의 매개 변수 = \", clf.best_estimator_)\n",
    "\n",
    "#최적의 매개 변수로 평가하기\n",
    "y_pred= clf.predict(x_test)\n",
    "print(\"최종 정답률 = \", accuracy_score(y_test, y_pred))"
   ]
  }
 ],
 "metadata": {
  "kernelspec": {
   "display_name": "Python 3",
   "language": "python",
   "name": "python3"
  },
  "language_info": {
   "codemirror_mode": {
    "name": "ipython",
    "version": 3
   },
   "file_extension": ".py",
   "mimetype": "text/x-python",
   "name": "python",
   "nbconvert_exporter": "python",
   "pygments_lexer": "ipython3",
   "version": "3.7.7"
  }
 },
 "nbformat": 4,
 "nbformat_minor": 4
}
