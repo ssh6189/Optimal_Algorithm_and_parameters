{
 "cells": [
  {
   "cell_type": "code",
   "execution_count": 1,
   "metadata": {},
   "outputs": [
    {
     "name": "stderr",
     "output_type": "stream",
     "text": [
      "C:\\Users\\user\\anaconda\\envs\\test\\lib\\site-packages\\sklearn\\utils\\deprecation.py:143: FutureWarning: The sklearn.utils.testing module is  deprecated in version 0.22 and will be removed in version 0.24. The corresponding classes / functions should instead be imported from sklearn.utils. Anything that cannot be imported from sklearn.utils is now part of the private API.\n",
      "  warnings.warn(message, FutureWarning)\n"
     ]
    },
    {
     "name": "stdout",
     "output_type": "stream",
     "text": [
      "AdaBoostClassifier 의 정답률 = \n",
      "[0.93333333 0.93333333 0.9        1.         1.        ]\n",
      "BaggingClassifier 의 정답률 = \n",
      "[0.93333333 0.93333333 0.96666667 0.96666667 0.96666667]\n",
      "BernoulliNB 의 정답률 = \n",
      "[0.3        0.2        0.2        0.23333333 0.2       ]\n",
      "CalibratedClassifierCV 의 정답률 = \n",
      "[0.96666667 0.83333333 0.9        0.96666667 0.93333333]\n"
     ]
    }
   ],
   "source": [
    "#크로스 밸리데이션\n",
    "import pandas as pd\n",
    "import warnings\n",
    "from sklearn.utils.testing import all_estimators\n",
    "from sklearn.model_selection import KFold\n",
    "from sklearn.model_selection import cross_val_score\n",
    "\n",
    "# 붓꽃 데이터 읽어 들이기\n",
    "iris_data = pd.read_csv(\"iris.csv\", encoding=\"utf-8\")\n",
    "\n",
    "#붓꽃 데이터를 레이블과 입력 데이터로 분리하기\n",
    "y = iris_data.loc[:,\"Name\"]\n",
    "x = iris_data.loc[:,[\"SepalLength\",\"SepalWidth\",\"PetalLength\",\"PetalWidth\"]]\n",
    "\n",
    "#classifier 알고리즘 모두 추출하기\n",
    "warnings.filterwarnings('ignore')\n",
    "allAlgorithms = all_estimators(type_filter =\"classifier\")\n",
    "\n",
    "c = 0\n",
    "\n",
    "kfold_cv = KFold(n_splits = 5, shuffle = True)\n",
    "\n",
    "for(name, algorithm) in allAlgorithms :\n",
    "\n",
    "    #각 알고리즘 객체 생성하기\n",
    "    clf = algorithm()\n",
    "    \n",
    "    c = c + 1\n",
    "    \n",
    "    if(c == 5):\n",
    "        break\n",
    "    \n",
    "    if hasattr(clf,\"score\"):\n",
    "       # 크로스 밸리데이션\n",
    "        scores = cross_val_score(clf, x, y, cv = kfold_cv)\n",
    "        print(name,\"의 정답률 = \")\n",
    "        print(scores)"
   ]
  }
 ],
 "metadata": {
  "kernelspec": {
   "display_name": "Python 3",
   "language": "python",
   "name": "python3"
  },
  "language_info": {
   "codemirror_mode": {
    "name": "ipython",
    "version": 3
   },
   "file_extension": ".py",
   "mimetype": "text/x-python",
   "name": "python",
   "nbconvert_exporter": "python",
   "pygments_lexer": "ipython3",
   "version": "3.7.7"
  }
 },
 "nbformat": 4,
 "nbformat_minor": 4
}
